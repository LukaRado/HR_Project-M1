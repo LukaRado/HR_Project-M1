{
  "nbformat": 4,
  "nbformat_minor": 0,
  "metadata": {
    "colab": {
      "provenance": []
    },
    "kernelspec": {
      "name": "python3",
      "display_name": "Python 3"
    },
    "language_info": {
      "name": "python"
    }
  },
  "cells": [
    {
      "cell_type": "code",
      "execution_count": 3,
      "metadata": {
        "colab": {
          "base_uri": "https://localhost:8080/"
        },
        "id": "maHSgFmyLRYT",
        "outputId": "059d6b46-5adc-49ff-cc3c-c3656aae972c"
      },
      "outputs": [
        {
          "output_type": "stream",
          "name": "stdout",
          "text": [
            "\u001b[?25l\r\u001b[K     |▋                               | 10 kB 19.7 MB/s eta 0:00:01\r\u001b[K     |█▏                              | 20 kB 7.0 MB/s eta 0:00:01\r\u001b[K     |█▊                              | 30 kB 9.8 MB/s eta 0:00:01\r\u001b[K     |██▎                             | 40 kB 4.6 MB/s eta 0:00:01\r\u001b[K     |██▉                             | 51 kB 4.3 MB/s eta 0:00:01\r\u001b[K     |███▌                            | 61 kB 5.1 MB/s eta 0:00:01\r\u001b[K     |████                            | 71 kB 5.7 MB/s eta 0:00:01\r\u001b[K     |████▋                           | 81 kB 6.4 MB/s eta 0:00:01\r\u001b[K     |█████▏                          | 92 kB 6.6 MB/s eta 0:00:01\r\u001b[K     |█████▊                          | 102 kB 5.3 MB/s eta 0:00:01\r\u001b[K     |██████▎                         | 112 kB 5.3 MB/s eta 0:00:01\r\u001b[K     |███████                         | 122 kB 5.3 MB/s eta 0:00:01\r\u001b[K     |███████▌                        | 133 kB 5.3 MB/s eta 0:00:01\r\u001b[K     |████████                        | 143 kB 5.3 MB/s eta 0:00:01\r\u001b[K     |████████▋                       | 153 kB 5.3 MB/s eta 0:00:01\r\u001b[K     |█████████▏                      | 163 kB 5.3 MB/s eta 0:00:01\r\u001b[K     |█████████▉                      | 174 kB 5.3 MB/s eta 0:00:01\r\u001b[K     |██████████▍                     | 184 kB 5.3 MB/s eta 0:00:01\r\u001b[K     |███████████                     | 194 kB 5.3 MB/s eta 0:00:01\r\u001b[K     |███████████▌                    | 204 kB 5.3 MB/s eta 0:00:01\r\u001b[K     |████████████                    | 215 kB 5.3 MB/s eta 0:00:01\r\u001b[K     |████████████▋                   | 225 kB 5.3 MB/s eta 0:00:01\r\u001b[K     |█████████████▎                  | 235 kB 5.3 MB/s eta 0:00:01\r\u001b[K     |█████████████▉                  | 245 kB 5.3 MB/s eta 0:00:01\r\u001b[K     |██████████████▍                 | 256 kB 5.3 MB/s eta 0:00:01\r\u001b[K     |███████████████                 | 266 kB 5.3 MB/s eta 0:00:01\r\u001b[K     |███████████████▌                | 276 kB 5.3 MB/s eta 0:00:01\r\u001b[K     |████████████████                | 286 kB 5.3 MB/s eta 0:00:01\r\u001b[K     |████████████████▊               | 296 kB 5.3 MB/s eta 0:00:01\r\u001b[K     |█████████████████▎              | 307 kB 5.3 MB/s eta 0:00:01\r\u001b[K     |█████████████████▉              | 317 kB 5.3 MB/s eta 0:00:01\r\u001b[K     |██████████████████▍             | 327 kB 5.3 MB/s eta 0:00:01\r\u001b[K     |███████████████████             | 337 kB 5.3 MB/s eta 0:00:01\r\u001b[K     |███████████████████▋            | 348 kB 5.3 MB/s eta 0:00:01\r\u001b[K     |████████████████████▏           | 358 kB 5.3 MB/s eta 0:00:01\r\u001b[K     |████████████████████▊           | 368 kB 5.3 MB/s eta 0:00:01\r\u001b[K     |█████████████████████▎          | 378 kB 5.3 MB/s eta 0:00:01\r\u001b[K     |█████████████████████▉          | 389 kB 5.3 MB/s eta 0:00:01\r\u001b[K     |██████████████████████▍         | 399 kB 5.3 MB/s eta 0:00:01\r\u001b[K     |███████████████████████         | 409 kB 5.3 MB/s eta 0:00:01\r\u001b[K     |███████████████████████▋        | 419 kB 5.3 MB/s eta 0:00:01\r\u001b[K     |████████████████████████▏       | 430 kB 5.3 MB/s eta 0:00:01\r\u001b[K     |████████████████████████▊       | 440 kB 5.3 MB/s eta 0:00:01\r\u001b[K     |█████████████████████████▎      | 450 kB 5.3 MB/s eta 0:00:01\r\u001b[K     |██████████████████████████      | 460 kB 5.3 MB/s eta 0:00:01\r\u001b[K     |██████████████████████████▌     | 471 kB 5.3 MB/s eta 0:00:01\r\u001b[K     |███████████████████████████     | 481 kB 5.3 MB/s eta 0:00:01\r\u001b[K     |███████████████████████████▋    | 491 kB 5.3 MB/s eta 0:00:01\r\u001b[K     |████████████████████████████▏   | 501 kB 5.3 MB/s eta 0:00:01\r\u001b[K     |████████████████████████████▊   | 512 kB 5.3 MB/s eta 0:00:01\r\u001b[K     |█████████████████████████████▍  | 522 kB 5.3 MB/s eta 0:00:01\r\u001b[K     |██████████████████████████████  | 532 kB 5.3 MB/s eta 0:00:01\r\u001b[K     |██████████████████████████████▌ | 542 kB 5.3 MB/s eta 0:00:01\r\u001b[K     |███████████████████████████████ | 552 kB 5.3 MB/s eta 0:00:01\r\u001b[K     |███████████████████████████████▋| 563 kB 5.3 MB/s eta 0:00:01\r\u001b[K     |████████████████████████████████| 569 kB 5.3 MB/s \n",
            "\u001b[?25h"
          ]
        }
      ],
      "source": [
        "!pip install xgboost -U -q\n",
        "!pip install sklearn -U -q\n",
        "!pip install shap -U -q"
      ]
    },
    {
      "cell_type": "code",
      "source": [
        "import pandas as pd\n",
        "import numpy as np\n",
        "import itertools\n",
        "import pickle\n",
        "from xgboost import XGBRegressor\n",
        "from sklearn.preprocessing import StandardScaler\n",
        "import shap"
      ],
      "metadata": {
        "id": "wHconxJXLuhl"
      },
      "execution_count": 4,
      "outputs": []
    },
    {
      "cell_type": "code",
      "source": [
        "X = pd.read_json('X.json')"
      ],
      "metadata": {
        "id": "dbW19_EiLxqx"
      },
      "execution_count": 7,
      "outputs": []
    },
    {
      "cell_type": "code",
      "source": [
        "model_xgb = pickle.load(open('model_xgb.pkl','rb'))"
      ],
      "metadata": {
        "id": "oHZGj26qLzeA"
      },
      "execution_count": 8,
      "outputs": []
    },
    {
      "cell_type": "code",
      "source": [
        "model_xgb"
      ],
      "metadata": {
        "colab": {
          "base_uri": "https://localhost:8080/"
        },
        "id": "OP1XHE_8L9qx",
        "outputId": "c3ad5026-dea5-4036-cae7-dc64a31762d5"
      },
      "execution_count": 9,
      "outputs": [
        {
          "output_type": "execute_result",
          "data": {
            "text/plain": [
              "XGBRegressor(base_score=0.5, booster='gbtree', callbacks=None,\n",
              "             colsample_bylevel=1, colsample_bynode=1, colsample_bytree=1,\n",
              "             early_stopping_rounds=None, enable_categorical=False,\n",
              "             eval_metric=None, gamma=0, gpu_id=-1, grow_policy='depthwise',\n",
              "             importance_type=None, interaction_constraints='',\n",
              "             learning_rate=0.300000012, max_bin=256, max_cat_to_onehot=4,\n",
              "             max_delta_step=0, max_depth=6, max_leaves=0, min_child_weight=1,\n",
              "             missing=nan, monotone_constraints='()', n_estimators=100, n_jobs=0,\n",
              "             num_parallel_tree=1, predictor='auto', random_state=0, reg_alpha=0,\n",
              "             reg_lambda=1, ...)"
            ]
          },
          "metadata": {},
          "execution_count": 9
        }
      ]
    },
    {
      "cell_type": "code",
      "source": [
        "scaler = pickle.load(open('scaler.pkl','rb'))"
      ],
      "metadata": {
        "id": "Xi0fpEBqL_9y"
      },
      "execution_count": 10,
      "outputs": []
    },
    {
      "cell_type": "code",
      "source": [
        "X"
      ],
      "metadata": {
        "colab": {
          "base_uri": "https://localhost:8080/",
          "height": 411
        },
        "id": "ftFW5P9LMvFa",
        "outputId": "e6897ef1-6b3d-4e1f-897b-117df95f8faa"
      },
      "execution_count": 11,
      "outputs": [
        {
          "output_type": "execute_result",
          "data": {
            "text/plain": [
              "                        JobRole  Gender  JobSatisfaction  YearsAtCompany  \\\n",
              "0     Healthcare Representative  Female         1.157359       -0.980272   \n",
              "1            Research Scientist  Female        -0.657940       -0.329582   \n",
              "2               Sales Executive    Male        -0.657940       -0.329582   \n",
              "3               Human Resources    Male         1.157359        0.158435   \n",
              "4               Sales Executive    Male        -1.565590       -0.166910   \n",
              "...                         ...     ...              ...             ...   \n",
              "4295            Human Resources  Female         1.157359       -0.166910   \n",
              "4296         Research Scientist  Female        -1.565590       -0.654927   \n",
              "4297      Laboratory Technician    Male         1.157359       -0.654927   \n",
              "4298            Sales Executive    Male         0.249709       -0.492255   \n",
              "4299      Laboratory Technician    Male        -1.565590        0.321108   \n",
              "\n",
              "      NumCompaniesWorked  \n",
              "0              -0.677226  \n",
              "1              -1.077952  \n",
              "2              -0.677226  \n",
              "3               0.124225  \n",
              "4               0.524950  \n",
              "...                  ...  \n",
              "4295           -0.677226  \n",
              "4296            0.124225  \n",
              "4297           -0.276501  \n",
              "4298           -1.077952  \n",
              "4299           -1.077952  \n",
              "\n",
              "[4300 rows x 5 columns]"
            ],
            "text/html": [
              "\n",
              "  <div id=\"df-9c355e04-e371-4920-9a77-e61734c41ad7\">\n",
              "    <div class=\"colab-df-container\">\n",
              "      <div>\n",
              "<style scoped>\n",
              "    .dataframe tbody tr th:only-of-type {\n",
              "        vertical-align: middle;\n",
              "    }\n",
              "\n",
              "    .dataframe tbody tr th {\n",
              "        vertical-align: top;\n",
              "    }\n",
              "\n",
              "    .dataframe thead th {\n",
              "        text-align: right;\n",
              "    }\n",
              "</style>\n",
              "<table border=\"1\" class=\"dataframe\">\n",
              "  <thead>\n",
              "    <tr style=\"text-align: right;\">\n",
              "      <th></th>\n",
              "      <th>JobRole</th>\n",
              "      <th>Gender</th>\n",
              "      <th>JobSatisfaction</th>\n",
              "      <th>YearsAtCompany</th>\n",
              "      <th>NumCompaniesWorked</th>\n",
              "    </tr>\n",
              "  </thead>\n",
              "  <tbody>\n",
              "    <tr>\n",
              "      <th>0</th>\n",
              "      <td>Healthcare Representative</td>\n",
              "      <td>Female</td>\n",
              "      <td>1.157359</td>\n",
              "      <td>-0.980272</td>\n",
              "      <td>-0.677226</td>\n",
              "    </tr>\n",
              "    <tr>\n",
              "      <th>1</th>\n",
              "      <td>Research Scientist</td>\n",
              "      <td>Female</td>\n",
              "      <td>-0.657940</td>\n",
              "      <td>-0.329582</td>\n",
              "      <td>-1.077952</td>\n",
              "    </tr>\n",
              "    <tr>\n",
              "      <th>2</th>\n",
              "      <td>Sales Executive</td>\n",
              "      <td>Male</td>\n",
              "      <td>-0.657940</td>\n",
              "      <td>-0.329582</td>\n",
              "      <td>-0.677226</td>\n",
              "    </tr>\n",
              "    <tr>\n",
              "      <th>3</th>\n",
              "      <td>Human Resources</td>\n",
              "      <td>Male</td>\n",
              "      <td>1.157359</td>\n",
              "      <td>0.158435</td>\n",
              "      <td>0.124225</td>\n",
              "    </tr>\n",
              "    <tr>\n",
              "      <th>4</th>\n",
              "      <td>Sales Executive</td>\n",
              "      <td>Male</td>\n",
              "      <td>-1.565590</td>\n",
              "      <td>-0.166910</td>\n",
              "      <td>0.524950</td>\n",
              "    </tr>\n",
              "    <tr>\n",
              "      <th>...</th>\n",
              "      <td>...</td>\n",
              "      <td>...</td>\n",
              "      <td>...</td>\n",
              "      <td>...</td>\n",
              "      <td>...</td>\n",
              "    </tr>\n",
              "    <tr>\n",
              "      <th>4295</th>\n",
              "      <td>Human Resources</td>\n",
              "      <td>Female</td>\n",
              "      <td>1.157359</td>\n",
              "      <td>-0.166910</td>\n",
              "      <td>-0.677226</td>\n",
              "    </tr>\n",
              "    <tr>\n",
              "      <th>4296</th>\n",
              "      <td>Research Scientist</td>\n",
              "      <td>Female</td>\n",
              "      <td>-1.565590</td>\n",
              "      <td>-0.654927</td>\n",
              "      <td>0.124225</td>\n",
              "    </tr>\n",
              "    <tr>\n",
              "      <th>4297</th>\n",
              "      <td>Laboratory Technician</td>\n",
              "      <td>Male</td>\n",
              "      <td>1.157359</td>\n",
              "      <td>-0.654927</td>\n",
              "      <td>-0.276501</td>\n",
              "    </tr>\n",
              "    <tr>\n",
              "      <th>4298</th>\n",
              "      <td>Sales Executive</td>\n",
              "      <td>Male</td>\n",
              "      <td>0.249709</td>\n",
              "      <td>-0.492255</td>\n",
              "      <td>-1.077952</td>\n",
              "    </tr>\n",
              "    <tr>\n",
              "      <th>4299</th>\n",
              "      <td>Laboratory Technician</td>\n",
              "      <td>Male</td>\n",
              "      <td>-1.565590</td>\n",
              "      <td>0.321108</td>\n",
              "      <td>-1.077952</td>\n",
              "    </tr>\n",
              "  </tbody>\n",
              "</table>\n",
              "<p>4300 rows × 5 columns</p>\n",
              "</div>\n",
              "      <button class=\"colab-df-convert\" onclick=\"convertToInteractive('df-9c355e04-e371-4920-9a77-e61734c41ad7')\"\n",
              "              title=\"Convert this dataframe to an interactive table.\"\n",
              "              style=\"display:none;\">\n",
              "        \n",
              "  <svg xmlns=\"http://www.w3.org/2000/svg\" height=\"24px\"viewBox=\"0 0 24 24\"\n",
              "       width=\"24px\">\n",
              "    <path d=\"M0 0h24v24H0V0z\" fill=\"none\"/>\n",
              "    <path d=\"M18.56 5.44l.94 2.06.94-2.06 2.06-.94-2.06-.94-.94-2.06-.94 2.06-2.06.94zm-11 1L8.5 8.5l.94-2.06 2.06-.94-2.06-.94L8.5 2.5l-.94 2.06-2.06.94zm10 10l.94 2.06.94-2.06 2.06-.94-2.06-.94-.94-2.06-.94 2.06-2.06.94z\"/><path d=\"M17.41 7.96l-1.37-1.37c-.4-.4-.92-.59-1.43-.59-.52 0-1.04.2-1.43.59L10.3 9.45l-7.72 7.72c-.78.78-.78 2.05 0 2.83L4 21.41c.39.39.9.59 1.41.59.51 0 1.02-.2 1.41-.59l7.78-7.78 2.81-2.81c.8-.78.8-2.07 0-2.86zM5.41 20L4 18.59l7.72-7.72 1.47 1.35L5.41 20z\"/>\n",
              "  </svg>\n",
              "      </button>\n",
              "      \n",
              "  <style>\n",
              "    .colab-df-container {\n",
              "      display:flex;\n",
              "      flex-wrap:wrap;\n",
              "      gap: 12px;\n",
              "    }\n",
              "\n",
              "    .colab-df-convert {\n",
              "      background-color: #E8F0FE;\n",
              "      border: none;\n",
              "      border-radius: 50%;\n",
              "      cursor: pointer;\n",
              "      display: none;\n",
              "      fill: #1967D2;\n",
              "      height: 32px;\n",
              "      padding: 0 0 0 0;\n",
              "      width: 32px;\n",
              "    }\n",
              "\n",
              "    .colab-df-convert:hover {\n",
              "      background-color: #E2EBFA;\n",
              "      box-shadow: 0px 1px 2px rgba(60, 64, 67, 0.3), 0px 1px 3px 1px rgba(60, 64, 67, 0.15);\n",
              "      fill: #174EA6;\n",
              "    }\n",
              "\n",
              "    [theme=dark] .colab-df-convert {\n",
              "      background-color: #3B4455;\n",
              "      fill: #D2E3FC;\n",
              "    }\n",
              "\n",
              "    [theme=dark] .colab-df-convert:hover {\n",
              "      background-color: #434B5C;\n",
              "      box-shadow: 0px 1px 3px 1px rgba(0, 0, 0, 0.15);\n",
              "      filter: drop-shadow(0px 1px 2px rgba(0, 0, 0, 0.3));\n",
              "      fill: #FFFFFF;\n",
              "    }\n",
              "  </style>\n",
              "\n",
              "      <script>\n",
              "        const buttonEl =\n",
              "          document.querySelector('#df-9c355e04-e371-4920-9a77-e61734c41ad7 button.colab-df-convert');\n",
              "        buttonEl.style.display =\n",
              "          google.colab.kernel.accessAllowed ? 'block' : 'none';\n",
              "\n",
              "        async function convertToInteractive(key) {\n",
              "          const element = document.querySelector('#df-9c355e04-e371-4920-9a77-e61734c41ad7');\n",
              "          const dataTable =\n",
              "            await google.colab.kernel.invokeFunction('convertToInteractive',\n",
              "                                                     [key], {});\n",
              "          if (!dataTable) return;\n",
              "\n",
              "          const docLinkHtml = 'Like what you see? Visit the ' +\n",
              "            '<a target=\"_blank\" href=https://colab.research.google.com/notebooks/data_table.ipynb>data table notebook</a>'\n",
              "            + ' to learn more about interactive tables.';\n",
              "          element.innerHTML = '';\n",
              "          dataTable['output_type'] = 'display_data';\n",
              "          await google.colab.output.renderOutput(dataTable, element);\n",
              "          const docLink = document.createElement('div');\n",
              "          docLink.innerHTML = docLinkHtml;\n",
              "          element.appendChild(docLink);\n",
              "        }\n",
              "      </script>\n",
              "    </div>\n",
              "  </div>\n",
              "  "
            ]
          },
          "metadata": {},
          "execution_count": 11
        }
      ]
    },
    {
      "cell_type": "code",
      "source": [
        "selected_df = pd.read_json('selected_df.json')"
      ],
      "metadata": {
        "id": "mFwd9r-YMzzk"
      },
      "execution_count": 12,
      "outputs": []
    },
    {
      "cell_type": "code",
      "source": [
        "shap_values = pickle.load(open('shap_values.pkl','rb'))\n",
        "explainer = shap.TreeExplainer(model_xgb)"
      ],
      "metadata": {
        "id": "tActVzrNM2Sb"
      },
      "execution_count": 13,
      "outputs": []
    },
    {
      "cell_type": "code",
      "source": [
        "ohe = pickle.load(open('ohe.pkl','rb'))"
      ],
      "metadata": {
        "id": "a4-W06NeM5IY"
      },
      "execution_count": 14,
      "outputs": []
    },
    {
      "cell_type": "code",
      "source": [
        "cats = list(itertools.chain(*ohe.categories_))"
      ],
      "metadata": {
        "id": "I_fCght6M7sL"
      },
      "execution_count": 15,
      "outputs": []
    }
  ]
}